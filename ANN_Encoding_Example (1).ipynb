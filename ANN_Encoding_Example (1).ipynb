{
  "nbformat": 4,
  "nbformat_minor": 0,
  "metadata": {
    "colab": {
      "name": "ANN_Encoding_Example.ipynb",
      "provenance": [],
      "collapsed_sections": [],
      "toc_visible": true
    },
    "kernelspec": {
      "name": "python3",
      "display_name": "Python 3"
    }
  },
  "cells": [
    {
      "cell_type": "markdown",
      "metadata": {
        "id": "lP6JLo1tGNBg"
      },
      "source": [
        "# Artificial Neural Network"
      ]
    },
    {
      "cell_type": "markdown",
      "metadata": {
        "id": "gWZyYmS_UE_L"
      },
      "source": [
        "### Importing the libraries"
      ]
    },
    {
      "cell_type": "code",
      "metadata": {
        "id": "MxkJoQBkUIHC"
      },
      "source": [
        "import numpy as np\n",
        "import pandas as pd\n",
        "import tensorflow as tf\n",
        "from keras.models import Sequential\n",
        "from keras.layers import Dense\n",
        "from keras.wrappers.scikit_learn import KerasRegressor\n",
        "from sklearn.model_selection import train_test_split"
      ],
      "execution_count": null,
      "outputs": []
    },
    {
      "cell_type": "code",
      "metadata": {
        "id": "7aLwQeIAax7y"
      },
      "source": [
        "#Feature Selection\n",
        "data = pd.read_csv('bank_data.csv')\n",
        "x = data.iloc[:,3:-1].values\n",
        "y = data.iloc[:,-1].values\n"
      ],
      "execution_count": null,
      "outputs": []
    },
    {
      "cell_type": "code",
      "metadata": {
        "id": "ToObL6Y9It1X",
        "colab": {
          "base_uri": "https://localhost:8080/",
          "height": 138
        },
        "outputId": "cba0131f-7da1-49e2-985b-5b4893f21621"
      },
      "source": [
        "print(x)"
      ],
      "execution_count": null,
      "outputs": [
        {
          "output_type": "stream",
          "text": [
            "[[619 'France' 'Female' ... 1 1 101348.88]\n",
            " [608 'Spain' 'Female' ... 0 1 112542.58]\n",
            " [502 'France' 'Female' ... 1 0 113931.57]\n",
            " ...\n",
            " [709 'France' 'Female' ... 0 1 42085.58]\n",
            " [772 'Germany' 'Male' ... 1 0 92888.52]\n",
            " [792 'France' 'Female' ... 1 0 38190.78]]\n"
          ],
          "name": "stdout"
        }
      ]
    },
    {
      "cell_type": "code",
      "metadata": {
        "id": "e14GWKdTIv6h",
        "colab": {
          "base_uri": "https://localhost:8080/",
          "height": 34
        },
        "outputId": "251b5ee3-5661-458c-c64c-dac4836885b6"
      },
      "source": [
        "print(y)"
      ],
      "execution_count": null,
      "outputs": [
        {
          "output_type": "stream",
          "text": [
            "[1 0 1 ... 1 1 0]\n"
          ],
          "name": "stdout"
        }
      ]
    },
    {
      "cell_type": "code",
      "metadata": {
        "id": "uz2jhjaCI0Fz"
      },
      "source": [
        "from sklearn.preprocessing import LabelEncoder\n",
        "l = LabelEncoder()\n",
        "x[:, 2] = l.fit_transform(x[:, 2])"
      ],
      "execution_count": null,
      "outputs": []
    },
    {
      "cell_type": "code",
      "metadata": {
        "id": "Sg-rto20Ji7x",
        "colab": {
          "base_uri": "https://localhost:8080/",
          "height": 138
        },
        "outputId": "537ecdfd-af93-481d-bb9c-d9b6bd045cca"
      },
      "source": [
        "print(x)"
      ],
      "execution_count": null,
      "outputs": [
        {
          "output_type": "stream",
          "text": [
            "[[619 'France' 0 ... 1 1 101348.88]\n",
            " [608 'Spain' 0 ... 0 1 112542.58]\n",
            " [502 'France' 0 ... 1 0 113931.57]\n",
            " ...\n",
            " [709 'France' 0 ... 0 1 42085.58]\n",
            " [772 'Germany' 1 ... 1 0 92888.52]\n",
            " [792 'France' 0 ... 1 0 38190.78]]\n"
          ],
          "name": "stdout"
        }
      ]
    },
    {
      "cell_type": "code",
      "metadata": {
        "id": "JzH94vFnJkpi"
      },
      "source": [
        "from sklearn.compose import ColumnTransformer\n",
        "from sklearn.preprocessing import OneHotEncoder\n",
        "c = ColumnTransformer(transformers=[('encoder', OneHotEncoder(), [1])], remainder='passthrough')\n",
        "x = np.array(c.fit_transform(x))"
      ],
      "execution_count": null,
      "outputs": []
    },
    {
      "cell_type": "code",
      "metadata": {
        "id": "xJ90AUc3Kbxn",
        "colab": {
          "base_uri": "https://localhost:8080/",
          "height": 138
        },
        "outputId": "03b30e63-4f34-4515-909e-97a5789c88b3"
      },
      "source": [
        "print(x)"
      ],
      "execution_count": null,
      "outputs": [
        {
          "output_type": "stream",
          "text": [
            "[[1.0 0.0 0.0 ... 1 1 101348.88]\n",
            " [0.0 0.0 1.0 ... 0 1 112542.58]\n",
            " [1.0 0.0 0.0 ... 1 0 113931.57]\n",
            " ...\n",
            " [1.0 0.0 0.0 ... 0 1 42085.58]\n",
            " [0.0 1.0 0.0 ... 1 0 92888.52]\n",
            " [1.0 0.0 0.0 ... 1 0 38190.78]]\n"
          ],
          "name": "stdout"
        }
      ]
    },
    {
      "cell_type": "code",
      "metadata": {
        "id": "NazeY6pGK5eK"
      },
      "source": [
        "x_train, x_test, y_train,y_test = train_test_split(x, y, test_size=0.2, random_state=100)"
      ],
      "execution_count": null,
      "outputs": []
    },
    {
      "cell_type": "code",
      "metadata": {
        "id": "NffNDomGLP5O"
      },
      "source": [
        "from sklearn.preprocessing import StandardScaler\n",
        "sc = StandardScaler()\n",
        "x_train = sc.fit_transform(x_train)\n",
        "x_test = sc.fit_transform(x_test)\n"
      ],
      "execution_count": null,
      "outputs": []
    },
    {
      "cell_type": "code",
      "metadata": {
        "id": "RHklpX0QLnNz"
      },
      "source": [
        "model = Sequential()\n",
        "model.add(Dense(6, activation='relu'))\n",
        "model.add(Dense(6, activation='relu'))\n",
        "model.add(Dense(1, activation='sigmoid'))\n"
      ],
      "execution_count": null,
      "outputs": []
    },
    {
      "cell_type": "code",
      "metadata": {
        "id": "i2sMgz2DMBbx"
      },
      "source": [
        "model.compile(optimizer='adam', loss='binary_crossentropy',metrics=['accuracy'])"
      ],
      "execution_count": null,
      "outputs": []
    },
    {
      "cell_type": "code",
      "metadata": {
        "id": "-KCEn52YMThJ",
        "colab": {
          "base_uri": "https://localhost:8080/",
          "height": 1000
        },
        "outputId": "3199b0a7-dc9c-4635-8da9-11dad0747ed7"
      },
      "source": [
        "model.fit(x_train, y_train, epochs=50)"
      ],
      "execution_count": null,
      "outputs": [
        {
          "output_type": "stream",
          "text": [
            "Epoch 1/50\n",
            "250/250 [==============================] - 0s 1ms/step - loss: 0.5528 - accuracy: 0.7864\n",
            "Epoch 2/50\n",
            "250/250 [==============================] - 0s 1ms/step - loss: 0.4738 - accuracy: 0.7969\n",
            "Epoch 3/50\n",
            "250/250 [==============================] - 0s 1ms/step - loss: 0.4500 - accuracy: 0.7969\n",
            "Epoch 4/50\n",
            "250/250 [==============================] - 0s 1ms/step - loss: 0.4369 - accuracy: 0.7969\n",
            "Epoch 5/50\n",
            "250/250 [==============================] - 0s 1ms/step - loss: 0.4304 - accuracy: 0.7969\n",
            "Epoch 6/50\n",
            "250/250 [==============================] - 0s 1ms/step - loss: 0.4266 - accuracy: 0.7969\n",
            "Epoch 7/50\n",
            "250/250 [==============================] - 0s 1ms/step - loss: 0.4236 - accuracy: 0.7969\n",
            "Epoch 8/50\n",
            "250/250 [==============================] - 0s 1ms/step - loss: 0.4213 - accuracy: 0.7969\n",
            "Epoch 9/50\n",
            "250/250 [==============================] - 0s 1ms/step - loss: 0.4194 - accuracy: 0.8009\n",
            "Epoch 10/50\n",
            "250/250 [==============================] - 0s 1ms/step - loss: 0.4176 - accuracy: 0.8192\n",
            "Epoch 11/50\n",
            "250/250 [==============================] - 0s 1ms/step - loss: 0.4159 - accuracy: 0.8232\n",
            "Epoch 12/50\n",
            "250/250 [==============================] - 0s 1ms/step - loss: 0.4147 - accuracy: 0.8269\n",
            "Epoch 13/50\n",
            "250/250 [==============================] - 0s 1ms/step - loss: 0.4134 - accuracy: 0.8290\n",
            "Epoch 14/50\n",
            "250/250 [==============================] - 0s 1ms/step - loss: 0.4119 - accuracy: 0.8314\n",
            "Epoch 15/50\n",
            "250/250 [==============================] - 0s 1ms/step - loss: 0.4107 - accuracy: 0.8315\n",
            "Epoch 16/50\n",
            "250/250 [==============================] - 0s 1ms/step - loss: 0.4100 - accuracy: 0.8326\n",
            "Epoch 17/50\n",
            "250/250 [==============================] - 0s 1ms/step - loss: 0.4090 - accuracy: 0.8340\n",
            "Epoch 18/50\n",
            "250/250 [==============================] - 0s 1ms/step - loss: 0.4082 - accuracy: 0.8344\n",
            "Epoch 19/50\n",
            "250/250 [==============================] - 0s 1ms/step - loss: 0.4074 - accuracy: 0.8349\n",
            "Epoch 20/50\n",
            "250/250 [==============================] - 0s 1ms/step - loss: 0.4066 - accuracy: 0.8351\n",
            "Epoch 21/50\n",
            "250/250 [==============================] - 0s 1ms/step - loss: 0.4058 - accuracy: 0.8350\n",
            "Epoch 22/50\n",
            "250/250 [==============================] - 0s 1ms/step - loss: 0.4054 - accuracy: 0.8364\n",
            "Epoch 23/50\n",
            "250/250 [==============================] - 0s 1ms/step - loss: 0.4047 - accuracy: 0.8364\n",
            "Epoch 24/50\n",
            "250/250 [==============================] - 0s 1ms/step - loss: 0.4043 - accuracy: 0.8369\n",
            "Epoch 25/50\n",
            "250/250 [==============================] - 0s 1ms/step - loss: 0.4034 - accuracy: 0.8367\n",
            "Epoch 26/50\n",
            "250/250 [==============================] - 0s 1ms/step - loss: 0.4026 - accuracy: 0.8356\n",
            "Epoch 27/50\n",
            "250/250 [==============================] - 0s 1ms/step - loss: 0.4014 - accuracy: 0.8374\n",
            "Epoch 28/50\n",
            "250/250 [==============================] - 0s 1ms/step - loss: 0.4006 - accuracy: 0.8370\n",
            "Epoch 29/50\n",
            "250/250 [==============================] - 0s 1ms/step - loss: 0.3990 - accuracy: 0.8369\n",
            "Epoch 30/50\n",
            "250/250 [==============================] - 0s 1ms/step - loss: 0.3976 - accuracy: 0.8374\n",
            "Epoch 31/50\n",
            "250/250 [==============================] - 0s 1ms/step - loss: 0.3961 - accuracy: 0.8378\n",
            "Epoch 32/50\n",
            "250/250 [==============================] - 0s 1ms/step - loss: 0.3942 - accuracy: 0.8382\n",
            "Epoch 33/50\n",
            "250/250 [==============================] - 0s 1ms/step - loss: 0.3918 - accuracy: 0.8397\n",
            "Epoch 34/50\n",
            "250/250 [==============================] - 0s 1ms/step - loss: 0.3888 - accuracy: 0.8415\n",
            "Epoch 35/50\n",
            "250/250 [==============================] - 0s 1ms/step - loss: 0.3853 - accuracy: 0.8404\n",
            "Epoch 36/50\n",
            "250/250 [==============================] - 0s 1ms/step - loss: 0.3807 - accuracy: 0.8424\n",
            "Epoch 37/50\n",
            "250/250 [==============================] - 0s 1ms/step - loss: 0.3751 - accuracy: 0.8443\n",
            "Epoch 38/50\n",
            "250/250 [==============================] - 0s 1ms/step - loss: 0.3701 - accuracy: 0.8475\n",
            "Epoch 39/50\n",
            "250/250 [==============================] - 0s 1ms/step - loss: 0.3657 - accuracy: 0.8481\n",
            "Epoch 40/50\n",
            "250/250 [==============================] - 0s 1ms/step - loss: 0.3612 - accuracy: 0.8495\n",
            "Epoch 41/50\n",
            "250/250 [==============================] - 0s 1ms/step - loss: 0.3580 - accuracy: 0.8508\n",
            "Epoch 42/50\n",
            "250/250 [==============================] - 0s 1ms/step - loss: 0.3557 - accuracy: 0.8515\n",
            "Epoch 43/50\n",
            "250/250 [==============================] - 0s 1ms/step - loss: 0.3536 - accuracy: 0.8528\n",
            "Epoch 44/50\n",
            "250/250 [==============================] - 0s 1ms/step - loss: 0.3525 - accuracy: 0.8550\n",
            "Epoch 45/50\n",
            "250/250 [==============================] - 0s 1ms/step - loss: 0.3512 - accuracy: 0.8528\n",
            "Epoch 46/50\n",
            "250/250 [==============================] - 0s 1ms/step - loss: 0.3497 - accuracy: 0.8566\n",
            "Epoch 47/50\n",
            "250/250 [==============================] - 0s 1ms/step - loss: 0.3491 - accuracy: 0.8553\n",
            "Epoch 48/50\n",
            "250/250 [==============================] - 0s 1ms/step - loss: 0.3478 - accuracy: 0.8568\n",
            "Epoch 49/50\n",
            "250/250 [==============================] - 0s 1ms/step - loss: 0.3473 - accuracy: 0.8574\n",
            "Epoch 50/50\n",
            "250/250 [==============================] - 0s 1ms/step - loss: 0.3467 - accuracy: 0.8581\n"
          ],
          "name": "stdout"
        },
        {
          "output_type": "execute_result",
          "data": {
            "text/plain": [
              "<tensorflow.python.keras.callbacks.History at 0x7f458d2a55c0>"
            ]
          },
          "metadata": {
            "tags": []
          },
          "execution_count": 13
        }
      ]
    },
    {
      "cell_type": "code",
      "metadata": {
        "id": "AyKIS7jpMbhB",
        "colab": {
          "base_uri": "https://localhost:8080/",
          "height": 34
        },
        "outputId": "11e747cf-44ca-499f-b6c7-94b47090edff"
      },
      "source": [
        "#Geography: Germany\n",
        "#Credit Score: 500\n",
        "#Gender: Male\n",
        "#Age: 30\n",
        "#Tenure: 3 years\n",
        "#Balance: $50000\n",
        "#Number of Products:1\n",
        "#Credit Card:Yes\n",
        "#Salary:$60000\n",
        "#Should we say goodbye to this Bank Customer?\n",
        "print(model.predict(sc.transform([[0,1,0,850,0,43,2,125510,1,1,1,79084]]))>0.5)"
      ],
      "execution_count": null,
      "outputs": [
        {
          "output_type": "stream",
          "text": [
            "[[ True]]\n"
          ],
          "name": "stdout"
        }
      ]
    },
    {
      "cell_type": "code",
      "metadata": {
        "id": "eZt3-BfrNFz2",
        "colab": {
          "base_uri": "https://localhost:8080/",
          "height": 34
        },
        "outputId": "22ef21cc-ba0d-4315-985a-41bd54092293"
      },
      "source": [
        "print(model.predict(sc.transform([[1,0,0,635,0,35,7,0,2,1,1,65951]]))>0.5)"
      ],
      "execution_count": null,
      "outputs": [
        {
          "output_type": "stream",
          "text": [
            "[[False]]\n"
          ],
          "name": "stdout"
        }
      ]
    },
    {
      "cell_type": "code",
      "metadata": {
        "id": "xC1bZrTnPrSJ"
      },
      "source": [
        ""
      ],
      "execution_count": null,
      "outputs": []
    },
    {
      "cell_type": "code",
      "metadata": {
        "id": "jWLBHcXmOqdX",
        "colab": {
          "base_uri": "https://localhost:8080/",
          "height": 138
        },
        "outputId": "082c5b56-b3f1-43c7-ef84-c14d23c41fc6"
      },
      "source": [
        "y_predict = model.predict(x_test)\n",
        "y_predict = (y_predict > 0.5)\n",
        "print(np.concatenate((y_predict.reshape(len(y_predict),1), y_test.reshape(len(y_test),1)),1))"
      ],
      "execution_count": null,
      "outputs": [
        {
          "output_type": "stream",
          "text": [
            "[[0 1]\n",
            " [0 0]\n",
            " [0 0]\n",
            " ...\n",
            " [0 0]\n",
            " [0 0]\n",
            " [0 0]]\n"
          ],
          "name": "stdout"
        }
      ]
    },
    {
      "cell_type": "code",
      "metadata": {
        "id": "gps0XNqrPEj1",
        "colab": {
          "base_uri": "https://localhost:8080/",
          "height": 50
        },
        "outputId": "7cc154bb-f822-469e-cd45-5efb851fdd85"
      },
      "source": [
        "from sklearn.metrics import confusion_matrix, accuracy_score\n",
        "cm = confusion_matrix(y_test, y_predict)\n",
        "print(cm)"
      ],
      "execution_count": null,
      "outputs": [
        {
          "output_type": "stream",
          "text": [
            "[[1526   62]\n",
            " [ 223  189]]\n"
          ],
          "name": "stdout"
        }
      ]
    },
    {
      "cell_type": "code",
      "metadata": {
        "id": "UJBMYc3oP0x4",
        "colab": {
          "base_uri": "https://localhost:8080/",
          "height": 34
        },
        "outputId": "cbaf51c6-fc1c-4835-8340-6797c6489899"
      },
      "source": [
        "accuracy_score(y_test, y_predict)"
      ],
      "execution_count": null,
      "outputs": [
        {
          "output_type": "execute_result",
          "data": {
            "text/plain": [
              "0.8575"
            ]
          },
          "metadata": {
            "tags": []
          },
          "execution_count": 40
        }
      ]
    },
    {
      "cell_type": "code",
      "metadata": {
        "id": "U3-7gLrEQCE-"
      },
      "source": [
        ""
      ],
      "execution_count": null,
      "outputs": []
    }
  ]
}